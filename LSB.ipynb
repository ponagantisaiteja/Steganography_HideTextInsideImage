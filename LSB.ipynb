{
 "cells": [
  {
   "cell_type": "code",
   "execution_count": 1,
   "id": "cc80c83c-3669-45d4-a636-02604bf9acd9",
   "metadata": {},
   "outputs": [],
   "source": [
    "# Least Significant Bit\n",
    "\n",
    "import numpy as np\n"
   ]
  },
  {
   "cell_type": "code",
   "execution_count": 2,
   "id": "21271606-260f-4a0e-bdc1-74c99196a628",
   "metadata": {},
   "outputs": [],
   "source": [
    "d={chr(i):i for i in range(255)}  #characters to ASCII\n",
    "c={i:chr(i) for i in range(255)}  #Ascii to character "
   ]
  },
  {
   "cell_type": "code",
   "execution_count": 3,
   "id": "fb10345d-c013-41f6-88a9-b8dd07ad8381",
   "metadata": {},
   "outputs": [],
   "source": [
    "#message and encrypted key\n",
    "text=\"Hello\"\n",
    "key=\"key\""
   ]
  },
  {
   "cell_type": "code",
   "execution_count": 4,
   "id": "cb0c2955-eace-4c70-b4f4-aae2810efc27",
   "metadata": {},
   "outputs": [],
   "source": [
    "#random pixel value Image\n",
    "\n",
    "x=np.random.randint(0,255,(10,10,3),dtype=np.uint8)"
   ]
  },
  {
   "cell_type": "code",
   "execution_count": 5,
   "id": "06bd01fb-e6ed-4505-b15f-3ed89cd0b6f9",
   "metadata": {},
   "outputs": [
    {
     "name": "stdout",
     "output_type": "stream",
     "text": [
      "Embedding bit 0 of 'H'  at (0,0,0)  original=208 new=208\n",
      "Embedding bit 0 of 'H'  at (0,0,1)  original=146 new=146\n",
      "Embedding bit 1 of 'H'  at (0,0,2)  original=169 new=169\n",
      "Embedding bit 0 of 'H'  at (0,1,0)  original=60 new=60\n",
      "Embedding bit 0 of 'H'  at (0,1,1)  original=182 new=182\n",
      "Embedding bit 0 of 'H'  at (0,1,2)  original=37 new=36\n",
      "Embedding bit 1 of 'H'  at (0,2,0)  original=9 new=9\n",
      "Embedding bit 1 of 'H'  at (0,2,1)  original=3 new=3\n",
      "Embedding bit 0 of 'e'  at (0,2,2)  original=14 new=14\n",
      "Embedding bit 0 of 'e'  at (0,3,0)  original=214 new=214\n",
      "Embedding bit 0 of 'e'  at (0,3,1)  original=243 new=242\n",
      "Embedding bit 0 of 'e'  at (0,3,2)  original=156 new=156\n",
      "Embedding bit 0 of 'e'  at (0,4,0)  original=1 new=0\n",
      "Embedding bit 0 of 'e'  at (0,4,1)  original=3 new=2\n",
      "Embedding bit 0 of 'e'  at (0,4,2)  original=38 new=38\n",
      "Embedding bit 0 of 'e'  at (0,5,0)  original=109 new=108\n",
      "Embedding bit 0 of 'l'  at (0,5,1)  original=107 new=106\n",
      "Embedding bit 0 of 'l'  at (0,5,2)  original=2 new=2\n",
      "Embedding bit 0 of 'l'  at (0,6,0)  original=51 new=50\n",
      "Embedding bit 1 of 'l'  at (0,6,1)  original=181 new=181\n",
      "Embedding bit 0 of 'l'  at (0,6,2)  original=38 new=38\n",
      "Embedding bit 1 of 'l'  at (0,7,0)  original=185 new=185\n",
      "Embedding bit 0 of 'l'  at (0,7,1)  original=79 new=78\n",
      "Embedding bit 1 of 'l'  at (0,7,2)  original=223 new=223\n",
      "Embedding bit 0 of 'l'  at (0,8,0)  original=188 new=188\n",
      "Embedding bit 0 of 'l'  at (0,8,1)  original=239 new=238\n",
      "Embedding bit 0 of 'l'  at (0,8,2)  original=32 new=32\n",
      "Embedding bit 0 of 'l'  at (0,9,0)  original=50 new=50\n",
      "Embedding bit 0 of 'l'  at (0,9,1)  original=136 new=136\n",
      "Embedding bit 1 of 'l'  at (0,9,2)  original=165 new=165\n",
      "Embedding bit 1 of 'l'  at (1,0,0)  original=218 new=219\n",
      "Embedding bit 1 of 'l'  at (1,0,1)  original=114 new=115\n",
      "Embedding bit 0 of 'o'  at (1,0,2)  original=169 new=168\n",
      "Embedding bit 0 of 'o'  at (1,1,0)  original=223 new=222\n",
      "Embedding bit 0 of 'o'  at (1,1,1)  original=189 new=188\n",
      "Embedding bit 0 of 'o'  at (1,1,2)  original=162 new=162\n",
      "Embedding bit 1 of 'o'  at (1,2,0)  original=101 new=101\n",
      "Embedding bit 0 of 'o'  at (1,2,1)  original=114 new=114\n",
      "Embedding bit 1 of 'o'  at (1,2,2)  original=158 new=159\n",
      "Embedding bit 0 of 'o'  at (1,3,0)  original=123 new=122\n"
     ]
    }
   ],
   "source": [
    "x_enc=x.copy()\n",
    "n=0\n",
    "m=0\n",
    "z=0\n",
    "l=len(text)\n",
    "kl=0\n",
    "for i in range(l):\n",
    "    char_val=d[text[i]]^d[key[kl]]\n",
    "    for bit_pos in range(8):\n",
    "        bit=(char_val >> (7-bit_pos)) & 1\n",
    "        orig_val=x_enc[n,m,z]\n",
    "        x_enc[n,m,z]=(orig_val & ~1) | bit\n",
    "        print(f\"Embedding bit {bit} of '{text[i]}'  at ({n},{m},{z})  original={orig_val} new={x_enc[n,m,z]}\")\n",
    "        z=(z+1)%3\n",
    "        if z == 0:\n",
    "            m=m+1\n",
    "            if m == x_enc.shape[1]:\n",
    "                m=0\n",
    "                n=n+1\n",
    "    kl=(kl+1)%len(key)\n",
    "        \n"
   ]
  },
  {
   "cell_type": "code",
   "execution_count": 6,
   "id": "6e43eb87-ed5b-49b5-8bb3-774ead3d1899",
   "metadata": {},
   "outputs": [
    {
     "name": "stdout",
     "output_type": "stream",
     "text": [
      "Reading bit 0 from (0,0,0\n",
      "Reading bit 0 from (0,0,1\n",
      "Reading bit 1 from (0,0,2\n",
      "Reading bit 0 from (0,1,0\n",
      "Reading bit 0 from (0,1,1\n",
      "Reading bit 0 from (0,1,2\n",
      "Reading bit 1 from (0,2,0\n",
      "Reading bit 1 from (0,2,1\n",
      "Decrypted byte: 35 XOR 107 = 72 -> 'H'\n",
      "Reading bit 0 from (0,2,2\n",
      "Reading bit 0 from (0,3,0\n",
      "Reading bit 0 from (0,3,1\n",
      "Reading bit 0 from (0,3,2\n",
      "Reading bit 0 from (0,4,0\n",
      "Reading bit 0 from (0,4,1\n",
      "Reading bit 0 from (0,4,2\n",
      "Reading bit 0 from (0,5,0\n",
      "Decrypted byte: 0 XOR 101 = 101 -> 'e'\n",
      "Reading bit 0 from (0,5,1\n",
      "Reading bit 0 from (0,5,2\n",
      "Reading bit 0 from (0,6,0\n",
      "Reading bit 1 from (0,6,1\n",
      "Reading bit 0 from (0,6,2\n",
      "Reading bit 1 from (0,7,0\n",
      "Reading bit 0 from (0,7,1\n",
      "Reading bit 1 from (0,7,2\n",
      "Decrypted byte: 21 XOR 121 = 108 -> 'l'\n",
      "Reading bit 0 from (0,8,0\n",
      "Reading bit 0 from (0,8,1\n",
      "Reading bit 0 from (0,8,2\n",
      "Reading bit 0 from (0,9,0\n",
      "Reading bit 0 from (0,9,1\n",
      "Reading bit 1 from (0,9,2\n",
      "Reading bit 1 from (1,0,0\n",
      "Reading bit 1 from (1,0,1\n",
      "Decrypted byte: 7 XOR 107 = 108 -> 'l'\n",
      "Reading bit 0 from (1,0,2\n",
      "Reading bit 0 from (1,1,0\n",
      "Reading bit 0 from (1,1,1\n",
      "Reading bit 0 from (1,1,2\n",
      "Reading bit 1 from (1,2,0\n",
      "Reading bit 0 from (1,2,1\n",
      "Reading bit 1 from (1,2,2\n",
      "Reading bit 0 from (1,3,0\n",
      "Decrypted byte: 10 XOR 101 = 111 -> 'o'\n",
      "Decrypted text : Hello\n"
     ]
    }
   ],
   "source": [
    "#Decryption\n",
    "n,m,z=0,0,0\n",
    "kl=0\n",
    "l=len(text)\n",
    "decrypt=\"\"\n",
    "for i in range(l):\n",
    "    val=0\n",
    "    for bit_pos in range(8):\n",
    "        bit= x_enc[n,m,z] & 1\n",
    "        val=(val << 1) | bit\n",
    "        print(f\"Reading bit {bit} from ({n},{m},{z}\")\n",
    "        z=(z+1)%3\n",
    "        if z==0:\n",
    "            m=m+1\n",
    "            if m==x_enc.shape[1]:\n",
    "                m=0\n",
    "                n=n+1\n",
    "    orig_char= c[val ^ d[key[kl]]]\n",
    "    decrypt+=orig_char\n",
    "    print(f\"Decrypted byte: {val} XOR {d[key[kl]]} = {val ^d[key[kl]]} -> '{orig_char}'\")\n",
    "    kl=(kl+1)%len(key)\n",
    "print(\"Decrypted text :\", decrypt)"
   ]
  },
  {
   "cell_type": "code",
   "execution_count": null,
   "id": "5e1ab86b-ead1-4fe7-b0ae-4af66a79d3ec",
   "metadata": {},
   "outputs": [],
   "source": []
  },
  {
   "cell_type": "code",
   "execution_count": null,
   "id": "2b09f345-aa8b-4f63-8f67-e65f066cb10a",
   "metadata": {},
   "outputs": [],
   "source": []
  }
 ],
 "metadata": {
  "kernelspec": {
   "display_name": "Python 3 (ipykernel)",
   "language": "python",
   "name": "python3"
  },
  "language_info": {
   "codemirror_mode": {
    "name": "ipython",
    "version": 3
   },
   "file_extension": ".py",
   "mimetype": "text/x-python",
   "name": "python",
   "nbconvert_exporter": "python",
   "pygments_lexer": "ipython3",
   "version": "3.10.12"
  }
 },
 "nbformat": 4,
 "nbformat_minor": 5
}
