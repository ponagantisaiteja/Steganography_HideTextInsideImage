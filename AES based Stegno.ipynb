{
 "cells": [
  {
   "cell_type": "code",
   "execution_count": 2,
   "id": "87b8fc60-7617-459f-bf98-7669721f42d1",
   "metadata": {},
   "outputs": [],
   "source": [
    "import cv2\n",
    "import string\n",
    "import os\n",
    "from Crypto.Cipher import AES\n",
    "from Crypto.Util.Padding import pad,unpad #ensure that input text fits in AES Block size\n",
    "from Crypto.Random import get_random_bytes\n",
    "import hashlib"
   ]
  },
  {
   "cell_type": "code",
   "execution_count": 3,
   "id": "cc8dcb3c-e654-4617-bd82-4ee46801da38",
   "metadata": {},
   "outputs": [],
   "source": [
    "#key generation\n",
    "#encryption\n",
    "#decryption\n",
    "\n",
    "def derive_key(userkey):\n",
    "    return hashlib.sha256(userkey.encode()).digest()[:16]\n",
    "    "
   ]
  },
  {
   "cell_type": "code",
   "execution_count": 4,
   "id": "e6321520-3de2-4bed-a6c6-608077abf272",
   "metadata": {},
   "outputs": [],
   "source": [
    "def encrypt_message(msg,userkey):\n",
    "    key=derive_key(userkey)\n",
    "    cipher=AES.new(key,AES.MODE_CBC)\n",
    "    ct=cipher.encrypt(pad(msg.encode(),AES.block_size))\n",
    "    return cipher.iv + ct"
   ]
  },
  {
   "cell_type": "code",
   "execution_count": 5,
   "id": "b4e314f3-959d-4fd9-9360-38ccbdc54b0a",
   "metadata": {},
   "outputs": [],
   "source": [
    "def decrypt_message(cipher_bytes,userkey):\n",
    "    key=derive_key(userkey)\n",
    "    iv=cipher_bytes[:16]\n",
    "    ct=cipher_bytes[16:]\n",
    "    cipher=AES.new(key,AES.MODE_CBC,iv)\n",
    "    return unpad(cipher.decrypt(),AES.block_size).decode()\n",
    "    \n",
    "    "
   ]
  },
  {
   "cell_type": "code",
   "execution_count": 6,
   "id": "2b5f3424-395f-45cd-b453-666517c6c5b6",
   "metadata": {},
   "outputs": [],
   "source": [
    "d={}\n",
    "c={}\n",
    "for i in range(256):\n",
    "    d[chr(i)]=i\n",
    "    c[i]=chr(i)"
   ]
  },
  {
   "cell_type": "code",
   "execution_count": 7,
   "id": "a66f719b-0a9e-457b-8c64-84296c665173",
   "metadata": {},
   "outputs": [],
   "source": [
    "image_path=\"/home/rgukt-basar/Downloads/spid.jpg\"\n",
    "x=cv2.imread(image_path)\n"
   ]
  },
  {
   "cell_type": "code",
   "execution_count": 8,
   "id": "12c37f55-b641-4a98-a72d-b17d4d992e94",
   "metadata": {},
   "outputs": [],
   "source": [
    "key=(\"123\")\n",
    "text=(\"secret\")"
   ]
  },
  {
   "cell_type": "code",
   "execution_count": 9,
   "id": "95459006-79d2-4ee1-868a-4ae67584e140",
   "metadata": {},
   "outputs": [
    {
     "name": "stdout",
     "output_type": "stream",
     "text": [
      "32\n"
     ]
    }
   ],
   "source": [
    "encrypted_bytes=encrypt_message(text,key)\n",
    "l=len(encrypted_bytes)\n",
    "print(l)"
   ]
  },
  {
   "cell_type": "code",
   "execution_count": 10,
   "id": "90a34132-6881-4bc4-ab5e-58875a4179d2",
   "metadata": {},
   "outputs": [
    {
     "name": "stdout",
     "output_type": "stream",
     "text": [
      "Embedding 's' (ASCII 115) XOR '1' (ASCII 49) = 66 at pixel (0,0,0) [original=0]\n",
      "Embedding 'e' (ASCII 101) XOR '2' (ASCII 50) = 87 at pixel (1,2,1) [original=0]\n",
      "Embedding 'c' (ASCII 99) XOR '3' (ASCII 51) = 80 at pixel (2,1,2) [original=4]\n",
      "Embedding 'r' (ASCII 114) XOR '1' (ASCII 49) = 67 at pixel (3,0,0) [original=0]\n",
      "Embedding 'e' (ASCII 101) XOR '2' (ASCII 50) = 87 at pixel (4,2,1) [original=0]\n",
      "Embedding 't' (ASCII 116) XOR '3' (ASCII 51) = 71 at pixel (5,1,2) [original=4]\n"
     ]
    }
   ],
   "source": [
    "\n",
    "x_enc=x.copy()\n",
    "n=0  #no of rows\n",
    "m=0  #no of col\n",
    "z=0  #color panel\n",
    "l=len(text)\n",
    "kl=0\n",
    "for i in range(l):\n",
    "       orig_val=x_enc[n,m,z]\n",
    "       new_val=d[text[i]]^d[key[kl]]\n",
    "       x_enc[n,m,z]=new_val\n",
    "       print(f\"Embedding '{text[i]}' (ASCII {d[text[i]]}) XOR '{key[kl]}' (ASCII {d[key[kl]]}) = {new_val} at pixel ({n},{m},{z}) [original={orig_val}]\") \n",
    "       n=n+1\n",
    "       m=m+1\n",
    "       m=(m+1)%3\n",
    "       z=(z+1)%3\n",
    "       kl=(kl+1)%len(key)"
   ]
  },
  {
   "cell_type": "code",
   "execution_count": 11,
   "id": "d08799b6-629a-4dd2-9190-ce99fc6fed0c",
   "metadata": {},
   "outputs": [
    {
     "name": "stdout",
     "output_type": "stream",
     "text": [
      "succes\n"
     ]
    }
   ],
   "source": [
    "cv2.imwrite(\"encrypting.jpg\",x)\n",
    "os.system(\"xdg-open encrypting.jpg\")\n",
    "print(\"succes\")"
   ]
  },
  {
   "cell_type": "code",
   "execution_count": 13,
   "id": "08e80fea-94f4-4f80-8baf-8d1e2899fbc1",
   "metadata": {},
   "outputs": [
    {
     "name": "stdin",
     "output_type": "stream",
     "text": [
      "Re-enter key:  123\n"
     ]
    },
    {
     "ename": "ValueError",
     "evalue": "Incorrect IV length (it must be 16 bytes long)",
     "output_type": "error",
     "traceback": [
      "\u001b[0;31m---------------------------------------------------------------------------\u001b[0m",
      "\u001b[0;31mValueError\u001b[0m                                Traceback (most recent call last)",
      "Cell \u001b[0;32mIn[13], line 29\u001b[0m\n\u001b[1;32m     25\u001b[0m             z \u001b[38;5;241m=\u001b[39m (z \u001b[38;5;241m+\u001b[39m \u001b[38;5;241m1\u001b[39m) \u001b[38;5;241m%\u001b[39m \u001b[38;5;241m3\u001b[39m  \u001b[38;5;66;03m# move to next color channel every row reset\u001b[39;00m\n\u001b[1;32m     27\u001b[0m         kl \u001b[38;5;241m=\u001b[39m (kl \u001b[38;5;241m+\u001b[39m \u001b[38;5;241m1\u001b[39m) \u001b[38;5;241m%\u001b[39m \u001b[38;5;28mlen\u001b[39m(key)\n\u001b[0;32m---> 29\u001b[0m     decrypted \u001b[38;5;241m=\u001b[39m \u001b[43mdecrypt_message\u001b[49m\u001b[43m(\u001b[49m\u001b[38;5;28;43mbytes\u001b[39;49m\u001b[43m(\u001b[49m\u001b[43mencrypted_back\u001b[49m\u001b[43m)\u001b[49m\u001b[43m,\u001b[49m\u001b[43m \u001b[49m\u001b[43mkey\u001b[49m\u001b[43m)\u001b[49m\n\u001b[1;32m     30\u001b[0m     \u001b[38;5;28mprint\u001b[39m(decrypted)\n\u001b[1;32m     31\u001b[0m \u001b[38;5;28;01melse\u001b[39;00m:\n",
      "Cell \u001b[0;32mIn[5], line 5\u001b[0m, in \u001b[0;36mdecrypt_message\u001b[0;34m(cipher_bytes, userkey)\u001b[0m\n\u001b[1;32m      3\u001b[0m iv\u001b[38;5;241m=\u001b[39mcipher_bytes[:\u001b[38;5;241m16\u001b[39m]\n\u001b[1;32m      4\u001b[0m ct\u001b[38;5;241m=\u001b[39mcipher_bytes[\u001b[38;5;241m16\u001b[39m:]\n\u001b[0;32m----> 5\u001b[0m cipher\u001b[38;5;241m=\u001b[39m\u001b[43mAES\u001b[49m\u001b[38;5;241;43m.\u001b[39;49m\u001b[43mnew\u001b[49m\u001b[43m(\u001b[49m\u001b[43mkey\u001b[49m\u001b[43m,\u001b[49m\u001b[43mAES\u001b[49m\u001b[38;5;241;43m.\u001b[39;49m\u001b[43mMODE_CBC\u001b[49m\u001b[43m,\u001b[49m\u001b[43miv\u001b[49m\u001b[43m)\u001b[49m\n\u001b[1;32m      6\u001b[0m \u001b[38;5;28;01mreturn\u001b[39;00m unpad(cipher\u001b[38;5;241m.\u001b[39mdecrypt(),AES\u001b[38;5;241m.\u001b[39mblock_size)\u001b[38;5;241m.\u001b[39mdecode()\n",
      "File \u001b[0;32m~/.local/lib/python3.10/site-packages/Crypto/Cipher/AES.py:229\u001b[0m, in \u001b[0;36mnew\u001b[0;34m(key, mode, *args, **kwargs)\u001b[0m\n\u001b[1;32m    129\u001b[0m \u001b[38;5;124;03m\"\"\"Create a new AES cipher.\u001b[39;00m\n\u001b[1;32m    130\u001b[0m \n\u001b[1;32m    131\u001b[0m \u001b[38;5;124;03mArgs:\u001b[39;00m\n\u001b[0;32m   (...)\u001b[0m\n\u001b[1;32m    225\u001b[0m \u001b[38;5;124;03m    an AES object, of the applicable mode.\u001b[39;00m\n\u001b[1;32m    226\u001b[0m \u001b[38;5;124;03m\"\"\"\u001b[39;00m\n\u001b[1;32m    228\u001b[0m kwargs[\u001b[38;5;124m\"\u001b[39m\u001b[38;5;124madd_aes_modes\u001b[39m\u001b[38;5;124m\"\u001b[39m] \u001b[38;5;241m=\u001b[39m \u001b[38;5;28;01mTrue\u001b[39;00m\n\u001b[0;32m--> 229\u001b[0m \u001b[38;5;28;01mreturn\u001b[39;00m \u001b[43m_create_cipher\u001b[49m\u001b[43m(\u001b[49m\u001b[43msys\u001b[49m\u001b[38;5;241;43m.\u001b[39;49m\u001b[43mmodules\u001b[49m\u001b[43m[\u001b[49m\u001b[38;5;18;43m__name__\u001b[39;49m\u001b[43m]\u001b[49m\u001b[43m,\u001b[49m\u001b[43m \u001b[49m\u001b[43mkey\u001b[49m\u001b[43m,\u001b[49m\u001b[43m \u001b[49m\u001b[43mmode\u001b[49m\u001b[43m,\u001b[49m\u001b[43m \u001b[49m\u001b[38;5;241;43m*\u001b[39;49m\u001b[43margs\u001b[49m\u001b[43m,\u001b[49m\u001b[43m \u001b[49m\u001b[38;5;241;43m*\u001b[39;49m\u001b[38;5;241;43m*\u001b[39;49m\u001b[43mkwargs\u001b[49m\u001b[43m)\u001b[49m\n",
      "File \u001b[0;32m~/.local/lib/python3.10/site-packages/Crypto/Cipher/__init__.py:52\u001b[0m, in \u001b[0;36m_create_cipher\u001b[0;34m(factory, key, mode, *args, **kwargs)\u001b[0m\n\u001b[1;32m     50\u001b[0m \u001b[38;5;28;01melif\u001b[39;00m mode \u001b[38;5;241m==\u001b[39m \u001b[38;5;241m2\u001b[39m:\n\u001b[1;32m     51\u001b[0m     \u001b[38;5;28;01mfrom\u001b[39;00m \u001b[38;5;21;01mCrypto\u001b[39;00m\u001b[38;5;21;01m.\u001b[39;00m\u001b[38;5;21;01mCipher\u001b[39;00m\u001b[38;5;21;01m.\u001b[39;00m\u001b[38;5;21;01m_mode_cbc\u001b[39;00m \u001b[38;5;28;01mimport\u001b[39;00m _create_cbc_cipher\n\u001b[0;32m---> 52\u001b[0m     res \u001b[38;5;241m=\u001b[39m \u001b[43m_create_cbc_cipher\u001b[49m\u001b[43m(\u001b[49m\u001b[43mfactory\u001b[49m\u001b[43m,\u001b[49m\u001b[43m \u001b[49m\u001b[38;5;241;43m*\u001b[39;49m\u001b[38;5;241;43m*\u001b[39;49m\u001b[43mkwargs\u001b[49m\u001b[43m)\u001b[49m\n\u001b[1;32m     53\u001b[0m \u001b[38;5;28;01melif\u001b[39;00m mode \u001b[38;5;241m==\u001b[39m \u001b[38;5;241m3\u001b[39m:\n\u001b[1;32m     54\u001b[0m     \u001b[38;5;28;01mfrom\u001b[39;00m \u001b[38;5;21;01mCrypto\u001b[39;00m\u001b[38;5;21;01m.\u001b[39;00m\u001b[38;5;21;01mCipher\u001b[39;00m\u001b[38;5;21;01m.\u001b[39;00m\u001b[38;5;21;01m_mode_cfb\u001b[39;00m \u001b[38;5;28;01mimport\u001b[39;00m _create_cfb_cipher\n",
      "File \u001b[0;32m~/.local/lib/python3.10/site-packages/Crypto/Cipher/_mode_cbc.py:287\u001b[0m, in \u001b[0;36m_create_cbc_cipher\u001b[0;34m(factory, **kwargs)\u001b[0m\n\u001b[1;32m    284\u001b[0m     iv \u001b[38;5;241m=\u001b[39m IV\n\u001b[1;32m    286\u001b[0m \u001b[38;5;28;01mif\u001b[39;00m \u001b[38;5;28mlen\u001b[39m(iv) \u001b[38;5;241m!=\u001b[39m factory\u001b[38;5;241m.\u001b[39mblock_size:\n\u001b[0;32m--> 287\u001b[0m     \u001b[38;5;28;01mraise\u001b[39;00m \u001b[38;5;167;01mValueError\u001b[39;00m(\u001b[38;5;124m\"\u001b[39m\u001b[38;5;124mIncorrect IV length (it must be \u001b[39m\u001b[38;5;132;01m%d\u001b[39;00m\u001b[38;5;124m bytes long)\u001b[39m\u001b[38;5;124m\"\u001b[39m \u001b[38;5;241m%\u001b[39m\n\u001b[1;32m    288\u001b[0m                      factory\u001b[38;5;241m.\u001b[39mblock_size)\n\u001b[1;32m    290\u001b[0m \u001b[38;5;28;01mif\u001b[39;00m kwargs:\n\u001b[1;32m    291\u001b[0m     \u001b[38;5;28;01mraise\u001b[39;00m \u001b[38;5;167;01mTypeError\u001b[39;00m(\u001b[38;5;124m\"\u001b[39m\u001b[38;5;124mUnknown parameters for CBC: \u001b[39m\u001b[38;5;132;01m%s\u001b[39;00m\u001b[38;5;124m\"\u001b[39m \u001b[38;5;241m%\u001b[39m \u001b[38;5;28mstr\u001b[39m(kwargs))\n",
      "\u001b[0;31mValueError\u001b[0m: Incorrect IV length (it must be 16 bytes long)"
     ]
    }
   ],
   "source": [
    "#Decryption \n",
    "import numpy as np\n",
    "\n",
    "# Assume x is a numpy array (e.g., loaded image)\n",
    "# Assume d = {chr(i): i for i in range(256)} or similar mapping\n",
    "# Assume key and x, l are already defined\n",
    "\n",
    "n, m, z = 0, 0, 0\n",
    "kl = 0\n",
    "\n",
    "key1 = input(\"Re-enter key: \")\n",
    "\n",
    "if key == key1:\n",
    "    encrypted_back = bytearray()\n",
    "    \n",
    "    for i in range(l):\n",
    "        pixel_value = x[n, m, z]  # Assuming x is a 3D numpy array (image)\n",
    "        xor_value = d[key[kl]]    # ASCII value from key\n",
    "\n",
    "        encrypted_back.append(pixel_value ^ xor_value)\n",
    "\n",
    "        n += 1\n",
    "        m = (m + 1) % x.shape[1]  # Ensure m stays within width\n",
    "        if m == 0:\n",
    "            z = (z + 1) % 3  # move to next color channel every row reset\n",
    "\n",
    "        kl = (kl + 1) % len(key)\n",
    "\n",
    "    decrypted = decrypt_message(bytes(encrypted_back), key)\n",
    "    print(decrypted)\n",
    "else:\n",
    "    print(\"Key mismatch\")\n"
   ]
  },
  {
   "cell_type": "code",
   "execution_count": null,
   "id": "ac671c91-cab4-4f8d-9157-f0258350846c",
   "metadata": {},
   "outputs": [],
   "source": []
  }
 ],
 "metadata": {
  "kernelspec": {
   "display_name": "Python 3 (ipykernel)",
   "language": "python",
   "name": "python3"
  },
  "language_info": {
   "codemirror_mode": {
    "name": "ipython",
    "version": 3
   },
   "file_extension": ".py",
   "mimetype": "text/x-python",
   "name": "python",
   "nbconvert_exporter": "python",
   "pygments_lexer": "ipython3",
   "version": "3.10.12"
  }
 },
 "nbformat": 4,
 "nbformat_minor": 5
}
